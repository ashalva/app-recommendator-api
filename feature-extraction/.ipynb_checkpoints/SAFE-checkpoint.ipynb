{
 "cells": [
  {
   "cell_type": "code",
   "execution_count": 1,
   "metadata": {
    "collapsed": false
   },
   "outputs": [],
   "source": [
    "import spacy\n",
    "import SAFE_Patterns\n",
    "from Text_Preprocessing import TextProcessing\n",
    "from Feature_Matching import Merge_Features\n",
    "import Feature_Matching\n",
    "import Text_Preprocessing\n",
    "import importlib\n",
    "import json\n",
    "from urllib.request import urlopen\n",
    "import re\n",
    "import requests\n",
    "import time\n",
    "import nltk"
   ]
  },
  {
   "cell_type": "code",
   "execution_count": 2,
   "metadata": {
    "collapsed": false
   },
   "outputs": [
    {
     "data": {
      "text/plain": [
       "<module 'Feature_Matching' from '/home/faiz/Desktop/PhD_Work/main_components/APP_RECOMMENDER_SYSTEM/APP_FEATURE_EXTRACTION/Feature_Matching.py'>"
      ]
     },
     "execution_count": 2,
     "metadata": {},
     "output_type": "execute_result"
    }
   ],
   "source": [
    "importlib.reload(SAFE_Patterns)\n",
    "importlib.reload(Text_Preprocessing)\n",
    "importlib.reload(Feature_Matching)"
   ]
  },
  {
   "cell_type": "code",
   "execution_count": 3,
   "metadata": {
    "collapsed": false
   },
   "outputs": [],
   "source": [
    "nlp = spacy.load('en')"
   ]
  },
  {
   "cell_type": "code",
   "execution_count": 4,
   "metadata": {
    "collapsed": true
   },
   "outputs": [],
   "source": [
    "from enum import Enum\n",
    "class EXTRACTION_MODE(Enum):\n",
    "    APP_DESCRIPTION = 1\n",
    "    USER_REVIEWS= 2\n",
    "\n",
    "class MERGE_MODE(Enum):\n",
    "    DESCRIPTION=1\n",
    "    USER_REVIEWS=2\n",
    "    DESCRIPTION_USER_REVIEWS=3\n",
    "\n",
    "class EVALUATION_TYPE(Enum):\n",
    "    EXACT=1\n",
    "    PARTIAL=2"
   ]
  },
  {
   "cell_type": "code",
   "execution_count": 5,
   "metadata": {
    "collapsed": false
   },
   "outputs": [],
   "source": [
    "class SAFE:\n",
    "    def __init__(self,appID,extraction_mode,nlp):\n",
    "        self.appID=str(appID)\n",
    "        self.extraction_mode = extraction_mode\n",
    "        self.nlp = nlp\n",
    "        #self.data = data\n",
    "        self.ExtractData()\n",
    "        \n",
    "    def ExtractData(self):\n",
    "        if self.extraction_mode == EXTRACTION_MODE.APP_DESCRIPTION:\n",
    "            # callt to rest API to get app description text again this app id\n",
    "            api_url='http://localhost:8081/app/description?id=' + self.appID\n",
    "            myResponse = requests.get(api_url)\n",
    "            if(myResponse.ok):\n",
    "                 app_data = json.loads((myResponse.content.decode('utf-8')))\n",
    "            \n",
    "            self.app_description = app_data['description'].strip()\n",
    "            #self.app_description = self.data\n",
    "            \n",
    "        elif self.extraction_mode ==  EXTRACTION_MODE.USER_REVIEWS:\n",
    "            self.reviews_text=[]\n",
    "            # call to rest API to retrive reviews against this app id\n",
    "            api_url='http://localhost:8081/app?id=' + self.appID\n",
    "            myResponse = requests.get(api_url)\n",
    "            if(myResponse.ok):\n",
    "                 appreviews_data = json.loads((myResponse.content.decode('utf-8')))\n",
    "        \n",
    "            user_reviews = appreviews_data['reveiw_list']\n",
    "        \n",
    "            for user_review in user_reviews:\n",
    "                relevant_review_info = {'id' : user_review['id'],'text': user_review['text']}\n",
    "                self.reviews_text.append(relevant_review_info)\n",
    "    \n",
    "    def PreprocessData(self):\n",
    "        #print('spacy segmemtation')\n",
    "        self.clean_sentences=[]\n",
    "        if self.extraction_mode == EXTRACTION_MODE.APP_DESCRIPTION:\n",
    "            textProcessor = TextProcessing(self.appID,self.app_description)\n",
    "            textProcessor.SegmemtintoSentences(sents_already_segmented=True)\n",
    "            self.clean_sentences = textProcessor.GetCleanSentences()\n",
    "            #print(self.clean_sentences)\n",
    "        elif self.extraction_mode == EXTRACTION_MODE.USER_REVIEWS:\n",
    "            #count=0\n",
    "            start_time = time.time()\n",
    "            #self.all_clean_sentences=[]\n",
    "            for review_text in self.reviews_text:\n",
    "                textProcessor = TextProcessing(self.appID,review_text['text'])\n",
    "                textProcessor.SegmemtintoSentences(sents_already_segmented=False)\n",
    "                clean_sents = textProcessor.GetCleanSentences()\n",
    "                self.clean_sentences.extend(clean_sents)\n",
    "            \n",
    "                \n",
    "            #print(\"--- %s seconds ---\" % (time.time() - start_time))\n",
    "            #print()\n",
    "    \n",
    "    def ExtractAppFeatures(self):\n",
    "        SAFE_Patterns_Obj=SAFE_Patterns.SAFE_Patterns(self.appID, self.clean_sentences, self.extraction_mode)\n",
    "        SAFE_Patterns_Obj.ExtractFeatures_Analyzing_Sent_POSPatterns()\n",
    "    \n",
    "    def Group_Features(self,similarity_th=.70):\n",
    "        obj_merge_features = Merge_Features(self.appID,self.extraction_mode ,self.nlp)\n",
    "        return(obj_merge_features.Merge(similarity_th))\n",
    "    \n",
    "    def Extract_App_Features(self):\n",
    "        self.PreprocessData()\n",
    "        self.ExtractAppFeatures()\n",
    "        json_output = self.Group_Features()\n",
    "        return(json_output)"
   ]
  },
  {
   "cell_type": "code",
   "execution_count": 6,
   "metadata": {
    "collapsed": false
   },
   "outputs": [
    {
     "name": "stdout",
     "output_type": "stream",
     "text": [
      "[{'cluster_name': 'add videos', 'cluster_features': [{'feature': 'add videos', 'frequency': 1}, {'feature': 'add photos', 'frequency': 1}]}, {'cluster_name': 'access documents', 'cluster_features': [{'feature': 'access documents', 'frequency': 1}, {'feature': 'send documents', 'frequency': 1}, {'feature': 'access photos', 'frequency': 2}, {'feature': 'add documents', 'frequency': 1}]}, {'cluster_name': 'notifications from people', 'cluster_features': [{'feature': 'notifications from people', 'frequency': 1}, {'feature': 'get notifications', 'frequency': 1}]}, {'cluster_name': 'manage or cancel', 'cluster_features': [{'feature': 'manage or cancel', 'frequency': 1}, {'feature': 'cancel your subscription', 'frequency': 1}]}, {'cluster_name': 'text colors', 'cluster_features': [{'feature': 'text colors', 'frequency': 1}, {'feature': 'backgrounds colors', 'frequency': 1}]}, {'cluster_name': 'free cloud', 'cluster_features': [{'feature': 'free cloud', 'frequency': 2}, {'feature': 'cloud storage', 'frequency': 1}, {'feature': 'cloud space', 'frequency': 1}, {'feature': 'free cloud space', 'frequency': 1}, {'feature': 'free cloud storage', 'frequency': 1}]}, {'cluster_name': 'choose different actions', 'cluster_features': [{'feature': 'choose different actions', 'frequency': 1}, {'feature': 'different actions', 'frequency': 1}]}, {'cluster_name': 'send photos', 'cluster_features': [{'feature': 'send photos', 'frequency': 2}, {'feature': 'files and photos', 'frequency': 1}, {'feature': 'photos stationery', 'frequency': 1}]}, {'cluster_name': 'sign up with', 'cluster_features': [{'feature': 'sign up with', 'frequency': 1}, {'feature': 'sign up', 'frequency': 1}, {'feature': 'with any', 'frequency': 1}, {'feature': 'get breaking', 'frequency': 1}]}, {'cluster_name': 'non-yahoo email', 'cluster_features': [{'feature': 'non-yahoo email', 'frequency': 1}, {'feature': 'password-free sign', 'frequency': 1}, {'feature': 'email address', 'frequency': 2}, {'feature': 'works with non-yahoo', 'frequency': 1}, {'feature': 'non-yahoo email addresses', 'frequency': 1}]}, {'cluster_name': 'ios customer support', 'cluster_features': [{'feature': 'ios customer support', 'frequency': 1}, {'feature': 'priority customer support', 'frequency': 1}]}, {'cluster_name': 'display mail contacts', 'cluster_features': [{'feature': 'display mail contacts', 'frequency': 1}, {'feature': 'mail contacts', 'frequency': 1}, {'feature': 'display mail', 'frequency': 1}, {'feature': 'experience mail', 'frequency': 1}, {'feature': 'mail design', 'frequency': 1}]}, {'cluster_name': 'optimized for use', 'cluster_features': [{'feature': 'optimized for use', 'frequency': 1}]}, {'cluster_name': 'easy-to-use interface', 'cluster_features': [{'feature': 'easy-to-use interface', 'frequency': 1}]}, {'cluster_name': 'caller id', 'cluster_features': [{'feature': 'caller id', 'frequency': 1}]}, {'cluster_name': 'itunes account', 'cluster_features': [{'feature': 'itunes account', 'frequency': 1}, {'feature': 'aol and accounts', 'frequency': 1}, {'feature': 'subscription via account', 'frequency': 1}]}, {'cluster_name': 'get breaking news', 'cluster_features': [{'feature': 'get breaking news', 'frequency': 1}]}, {'cluster_name': 'ditch passwords', 'cluster_features': [{'feature': 'ditch passwords', 'frequency': 1}]}, {'cluster_name': 'experience mail design', 'cluster_features': [{'feature': 'experience mail design', 'frequency': 1}]}, {'cluster_name': 'customize your', 'cluster_features': [{'feature': 'customize your', 'frequency': 1}, {'feature': 'customize your swipes', 'frequency': 1}]}, {'cluster_name': 'enable account key', 'cluster_features': [{'feature': 'enable account key', 'frequency': 1}, {'feature': 'account settings', 'frequency': 1}, {'feature': 'enable account', 'frequency': 1}, {'feature': 'key for secure', 'frequency': 1}, {'feature': 'account key', 'frequency': 1}]}, {'cluster_name': 'month or year', 'cluster_features': [{'feature': 'month or year', 'frequency': 1}]}, {'cluster_name': 'renewal date', 'cluster_features': [{'feature': 'renewal date', 'frequency': 1}]}, {'cluster_name': 'upgrade your device', 'cluster_features': [{'feature': 'upgrade your device', 'frequency': 1}]}, {'cluster_name': 'artist-designed stationery', 'cluster_features': [{'feature': 'artist-designed stationery', 'frequency': 1}]}, {'cluster_name': 'incoming callers', 'cluster_features': [{'feature': 'incoming callers', 'frequency': 1}]}, {'cluster_name': 'outlook and aol', 'cluster_features': [{'feature': 'outlook and aol', 'frequency': 1}]}]\n"
     ]
    }
   ],
   "source": [
    "if __name__ == '__main__':\n",
    "    #Fantastical 2 for iPhone - Calendar and Reminders\n",
    "    appID = \"577586159\"\n",
    "    obj_surf = SAFE(appID,EXTRACTION_MODE.APP_DESCRIPTION,nlp)\n",
    "    json_output = obj_surf.Extract_App_Features()\n",
    "\n",
    "    predicted_features_json =json_output['app_features']\n",
    "    print(predicted_features_json)\n",
    "\n",
    "#     cluster_predicted_features=[]\n",
    "\n",
    "#     print(\"++++++++++++++++++++++++++++++++++++++++++++++++++\")\n",
    "\n",
    "#     print('Numer of clusters are %d' % len(predicted_features_json))\n",
    "\n",
    "#     for cluster_features in predicted_features_json:\n",
    "#         app_features_group = cluster_features['cluster_features']\n",
    "#         #print(app_features_group)\n",
    "#         app_features_cluster=[]\n",
    "#         for app_feature in app_features_group:\n",
    "#         #predicted_features.append(app_feature['feature'])\n",
    "#             app_features_cluster.append(app_feature['feature'])\n",
    "\n",
    "#         cluster_predicted_features.append(app_features_cluster)\n",
    "\n",
    "#     print(cluster_predicted_features)"
   ]
  },
  {
   "cell_type": "code",
   "execution_count": null,
   "metadata": {
    "collapsed": true
   },
   "outputs": [],
   "source": []
  }
 ],
 "metadata": {
  "anaconda-cloud": {},
  "kernelspec": {
   "display_name": "Python [conda env:ut]",
   "language": "python",
   "name": "conda-env-ut-py"
  },
  "language_info": {
   "codemirror_mode": {
    "name": "ipython",
    "version": 3
   },
   "file_extension": ".py",
   "mimetype": "text/x-python",
   "name": "python",
   "nbconvert_exporter": "python",
   "pygments_lexer": "ipython3",
   "version": "3.5.2"
  }
 },
 "nbformat": 4,
 "nbformat_minor": 2
}
