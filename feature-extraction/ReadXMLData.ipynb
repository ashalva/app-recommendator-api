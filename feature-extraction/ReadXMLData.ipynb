{
 "cells": [
  {
   "cell_type": "code",
   "execution_count": 16,
   "metadata": {
    "collapsed": true
   },
   "outputs": [],
   "source": [
    "from xml.etree import ElementTree\n",
    "from xml.etree.ElementTree import Element\n",
    "from xml.etree.ElementTree import SubElement\n",
    "from xml.dom import minidom\n",
    "import html\n",
    "import re"
   ]
  },
  {
   "cell_type": "code",
   "execution_count": 17,
   "metadata": {
    "collapsed": true
   },
   "outputs": [],
   "source": [
    "from enum import Enum\n",
    "\n",
    "class ANNOTATORS:\n",
    "    CODER1 = 1 \n",
    "    CODER2 = 2 \n",
    "\n",
    "class MOBILE_APPS(Enum):\n",
    "    WHATSAPP = 1\n",
    "\n",
    "class DATASETS(Enum):\n",
    "    GUZMAN=1"
   ]
  },
  {
   "cell_type": "code",
   "execution_count": 20,
   "metadata": {
    "collapsed": true
   },
   "outputs": [],
   "source": [
    "class XML_REVIEW_DATASET(object):\n",
    "    \n",
    "    def __init__(self,dataset,app_name,coder):\n",
    "        self.dataset = dataset\n",
    "        self.app_name = app_name\n",
    "        self.annotator = coder\n",
    "    \n",
    "    def ReadReviewWithAspectTerms(self):\n",
    "        if self.annotator==ANNOTATORS.CODER1:\n",
    "            app_data_path='./Datasets/' + self.dataset.name + \"/CODER1/\" +  self.app_name.name + \"/\" + self.app_name.name + \"_TEST.xml\"\n",
    "        elif self.annotator ==ANNOTATORS.CODER2:\n",
    "            app_data_path= './Datasets/' + self.dataset.name + \"/CODER2/\" +  self.app_name.name + \"/\" + self.app_name.name + \"_TEST.xml\"\n",
    "\n",
    "        tree = ElementTree.parse(app_data_path)\n",
    "        corpus = tree.getroot()\n",
    "        reviews = corpus.findall('.//sentence')\n",
    "        \n",
    "        reviews_with_aspect_terms={}\n",
    "        \n",
    "        reviews_node = Element('sentences')\n",
    "        \n",
    "        for review in reviews:\n",
    "            review_id = review.attrib['id']\n",
    "            review_text = re.sub(r'\\s+',\" \",review.find('text').text)\n",
    "            \n",
    "            aspectTerms = review.find('aspectTerms')\n",
    "            \n",
    "            list_aspect_terms=[]\n",
    "            \n",
    "            if aspectTerms is not None:\n",
    "                aspectTerm = aspectTerms.findall('aspectTerm')\n",
    "               \n",
    "                for aspect_term in aspectTerm:\n",
    "                    app_feature = aspect_term.attrib['term'].strip()\n",
    "                    list_aspect_terms.append(app_feature)\n",
    "            \n",
    "            reviews_with_aspect_terms[review_id]={'review_text':review_text,'true_features':list_aspect_terms,'predicted_features':[]}\n",
    "        \n",
    "        return(reviews_with_aspect_terms)"
   ]
  },
  {
   "cell_type": "code",
   "execution_count": 29,
   "metadata": {
    "collapsed": false
   },
   "outputs": [
    {
     "name": "stdout",
     "output_type": "stream",
     "text": [
      "['awesome bt plz increase the size videos that we send', \"Failed to upgrade I couldn't upgrade to the new version, had to delete the app, now I can't install it again..\", 'Love it. Excellent app. Easiest way to keep in touch with my close and dear. Cheers.', 'It was so useful to chat and connecting with all frnds I really loves this wats up and i enjoy the days chatting with my frnds tks for thiz innovative idea hats off', \"It's the best It's quick and easy to use and never let's me down and I don't have to spend credit while having a conversation! I totally recommend it for anyone.\", 'Awsme app I juz love dis app its so easy nd free', 'Purchase If you remove the purchase i will rate 5 stars', 'This app will connect peoples. VeRy..............GoOd ApP.', 'Very good Easy and very helpful', 'Fine..bt cud b improved..!! Its d most popular app in any smartphn.. But it has becum too slow since d last update..!! Pls fix..!! Odrwse it s a 5 on 5 material...!!', 'Amazing ;-) Amazing app ... the best way to stay in touch with ur frnd.. sharw images ... videos . Songs .. group chat ... great aap .. works perfectly .. CHEERS :-)', 'Best app to share thoughts, ideas and different things and feelings.. Excellent way that connects to our family, friends, relatives and strangers too... :));))', 'Great Its great for texting with mates or friends always aware of the gossip its like a bbm put for android the thing is when I text and send I always make a mistake and wish I could take it back', \"Can't get enough Brilliant app. Switched to a Samsung Galaxy Note 2 after an iPhone and noticed the option to switch off timestamps is unavailable on Samsung devices. If this could be included in the next update, 5 star rating sorted.\", 'Good Really help full....but if u make it free for lifetime...we will use it life long', 'Increase participants in a group increase participants in a group Update it...', 'Great app. Needs call service.', \"Excellent communication app It is quite nice and enjoyable and time passing too... Communication is very easy through this and is best communication app ever.... Keep it up WHAT'S APP...!!! THREE cheers for what's app\", 'Good Need facility to attach documents as well', \"Keeps crashing Not only did it crash, it also wiped my whole phone. Now it's uninstalled my Galaxy S4 is running great again. I'd have given it 0 stars if I could.\", 'Shubham kumar I like this app bcoz. Its realy easy n so fst..after all it is d no.1 messenger on android It is very quick n low data..usage.on my smsng galaxy y', 'Nice app.. Nice apps. Chat & calling will be easier using this app. Only one problem when using this app, please fix the bugs..', 'Awesome The updates Are Awesome! Keep It Up!', \"Brilliant It's a great way to keep in contact with people you know :)\", 'Worst... Atleast reply and help... Worst... since four days trying to register.. everytime they cut balnce for verification.. them send voice verification nd then fails that also ... crap .. negative star', \"Good but Good concept. But wish it didn't steal all of your data.\", \"It's not being installed in Android 2.3 after finishing download it show that download unsuccessful.\", 'Excellent notification alert I jst wish dat whatsapp had its own alert ringtone bt its nthng important bcz it fulfils its role of bein a communicational avenue', 'I like it It is that best way to chat every one', 'Become very unstable and unsupported to my device Now a days it gives a big problem for my HTC desire V device whenever someone or group chat text message me in marathi language or used in more smily in that message that time whatsapp is directly closed and suddenly come back to the home screen and never open it....', 'Goood No payment please', 'Its fine Plz add a symbol of salut . As salut to flag etc.', 'Error report Not ok', 'Anyone can c my profile pic Its dangerous.', 'good app consumes more amount of phone memory', 'Nice app Like dis app a lottt... Bt v cnt share pdf files..plz think on dis', 'Awesome app !!! This is d best app ever but can anyone tell me how to turn off ur last seen ? Tnx', 'Needs Update! It still needs updates! Its a bit slow! I hope whatsapp fixes this problem! I know they are too busy but they have to take out time for us!', 'Great. At times even faster than ordinary sms.', 'Good feature I like this apps, but we need voice call also.', \"Better Em having Samsung galaxy s 4 ad I am facing problem when I updated what's app.plz fix it\", 'GooD App Very user friendly', 'Poor:(:( Need updates for Android! WA so lame in Androids:(:( Fix it!', 'Unconditionally 5 star. This is a must have app. Love the smileys, available in watsapp. Wish there were some animated smileys too.', \"It's awesome However recently there is lapse to receive the message . Didn't receive notification until open up the app.\", 'coooooll epic msnger', 'nice great, since now groupchat supporting up to 30... however, when will voice-call via internet available?', 'watsapp nice and easy', 'Note 2 Very good messanger. Better than others.', 'Very good app I wish it can work with two number in same phone or work with dual sim card for both number when it will be Work for dual sim card mobile plz.', 'Abdul Downloading slow', 'its problem is about not being allowed ur last online status', 'Full stars if completely downloaded Not downloading properly although full netwrk excess', \"Add my flag Please add flag of Pakistan and i'll give it a 5 star :-)\", \"Gud It's very good way to contact people far away\", 'I like Really. Easy use', 'Maihklass01 Nice & slow.', 'Best. Cross. Platform. App. Ever! The idea of a seamlessly connected world brought to life. Simply brilliant!', 'Good Everyone realy want the \"hide last seen\" option on android . 5 stars if added on the next update', 'Good app Is a good app to text on', 'HTC one Best social app ever.!! (Y)..', 'None of the new flags added are working please work on that ASAP', 'Super Very very Nice to oparate', 'I like this app, which allow us to chat, share music and video... But in my mobile, after downloading the app, it works six months after that again it shows date failure and it will not work... Again I have to download...', 'Epic Its really good but when using 3g costs lods', 'Awesome app The best app... I really enjoy chatting in watsapp!!', 'Goodul Work fast', '80% It sometimes jam up', 'nice of chting with ppl ilike being on this ntwrk', 'Samsung Gt-i8262 Facing problem while attaching image, audio or video files. It is taking lot of time or sometimes get failed. Even the messenges that are being send gets shuffled. Really time consuming.. Please fix it..', 'Great application.... One of the great application for chat..... Please just increase the upload limit..... That will be very useful......', 'App crash Keeps crashing when you click on to the attach option', 'Whatsapp It take much time to download..', 'Good Pls add more feature allow me to send pdf file to frnds', \"Sucks to the core. Doesn't deserve even a single star. Why do I always have to update aaps:( and I kept getting msg from server to update it. But I ignored since I dint wanna update it. Now I cannot update the new version. This is more than 7th time m trying to update and I just cannot. It just stops in between. I even dont want the new version since people are comenting saying it aint that good. Why is it compulsory to update it?;p anyways please help to get it downloaded? Otherwise ill take back that 1 star also:p\", 'Best. I am always on whatsapp. My only means of talking. Its good. Better than normal texting.', 'An average app It\\'s good.. but when it comes to \"updating\", it\\'s pathetic!! :-P', 'Very good It is only showing chek stesus', \"It's a third class app canot open I am very angry about this app Bore\", \"Great! Its really easy to use and I love all the little icons to choose from. You can send videos and photos. You don't need Facebook or anything like that. Definitely download :)\", 'Useful Awesome application and useful. Thank', 'No Galaxy Gear support Please create an app for Galaxy Gear. I can only read the notifications on my Gear. I would love to have an option to reply directly from my Gear. Thanks.', \"Payements Good but why can't it be free like skype?\", 'Excellent Cool app. With many stickers... Stay connected with ur frndz', 'Ok app It is not updating since long .I have been trying very much. But it has gud to connect wid ur frnds.', 'Eazy to excess Great way to communute.', 'Too fast to good excellent.. Apps']\n"
     ]
    }
   ],
   "source": [
    "# if __name__== '__main__':\n",
    "#     objXML_DS = XML_REVIEW_DATASET(DATASETS.GUZMAN,MOBILE_APPS.WHATSAPP,ANNOTATORS.CODER1)\n",
    "#     review_with_true_features = objXML_DS.ReadReviewWithAspectTerms()\n",
    "#     reviews_list = [review_with_true_features[review_id]['review_text'] for review_id in review_with_true_features.keys()]\n",
    "#     print(reviews_list)"
   ]
  },
  {
   "cell_type": "code",
   "execution_count": null,
   "metadata": {
    "collapsed": true
   },
   "outputs": [],
   "source": []
  }
 ],
 "metadata": {
  "anaconda-cloud": {},
  "kernelspec": {
   "display_name": "Python [conda env:ut]",
   "language": "python",
   "name": "conda-env-ut-py"
  },
  "language_info": {
   "codemirror_mode": {
    "name": "ipython",
    "version": 3
   },
   "file_extension": ".py",
   "mimetype": "text/x-python",
   "name": "python",
   "nbconvert_exporter": "python",
   "pygments_lexer": "ipython3",
   "version": "3.5.2"
  }
 },
 "nbformat": 4,
 "nbformat_minor": 2
}
