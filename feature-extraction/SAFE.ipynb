{
 "cells": [
  {
   "cell_type": "code",
   "execution_count": 66,
   "metadata": {
    "collapsed": false
   },
   "outputs": [],
   "source": [
    "import spacy\n",
    "import SAFE_Patterns\n",
    "from Text_Preprocessing import TextProcessing\n",
    "from Feature_Matching import Merge_Features\n",
    "import SAFE_Evaluation\n",
    "#from SAFE_Evaluation import Evaluate\n",
    "import ReadXMLData\n",
    "from ReadXMLData import XML_REVIEW_DATASET\n",
    "import Feature_Matching\n",
    "import Text_Preprocessing\n",
    "import importlib\n",
    "import json\n",
    "from urllib.request import urlopen\n",
    "import re\n",
    "import requests\n",
    "import time\n",
    "import nltk"
   ]
  },
  {
   "cell_type": "code",
   "execution_count": 67,
   "metadata": {
    "collapsed": true
   },
   "outputs": [],
   "source": [
    "from enum import Enum\n",
    "\n",
    "class ANNOTATORS:\n",
    "    CODER1 = 1 \n",
    "    CODER2 = 2 \n",
    "\n",
    "class MOBILE_APPS(Enum):\n",
    "    WHATSAPP = 1\n",
    "\n",
    "class DATASETS(Enum):\n",
    "    GUZMAN=1\n",
    "\n",
    "class EXTRACTION_MODE(Enum):\n",
    "    APP_DESCRIPTION = 1\n",
    "    USER_REVIEWS= 2"
   ]
  },
  {
   "cell_type": "code",
   "execution_count": 68,
   "metadata": {
    "collapsed": false
   },
   "outputs": [
    {
     "data": {
      "text/plain": [
       "<module 'Feature_Matching' from '/home/faiz/Desktop/PhD_Work/main_components/app_features_extraction/SAFE_IMPLEMENTATION_ALL_PURPOSES/SAFE_IMPLEMENTATION/Feature_Matching.py'>"
      ]
     },
     "execution_count": 68,
     "metadata": {},
     "output_type": "execute_result"
    }
   ],
   "source": [
    "importlib.reload(SAFE_Evaluation)\n",
    "importlib.reload(SAFE_Patterns)\n",
    "importlib.reload(Text_Preprocessing)\n",
    "importlib.reload(Feature_Matching)"
   ]
  },
  {
   "cell_type": "code",
   "execution_count": 11,
   "metadata": {
    "collapsed": false
   },
   "outputs": [],
   "source": [
    "nlp = spacy.load('en')"
   ]
  },
  {
   "cell_type": "code",
   "execution_count": 69,
   "metadata": {
    "collapsed": false
   },
   "outputs": [],
   "source": [
    "class SAFE:\n",
    "    def __init__(self,appid,nlp):\n",
    "        self.appID = appid\n",
    "        #self.appName= appName\n",
    "        self.nlp = nlp\n",
    "        #self.data = data\n",
    "        #self.extraction_mode = extraction_mode\n",
    "        self.getAppName()\n",
    "        \n",
    "    def getAppName(self):\n",
    "        api_url='http://localhost:8081/app/name?id=' + str(self.appID)\n",
    "        myResponse = requests.get(api_url)\n",
    "        if(myResponse.ok):\n",
    "            jsonOutput= json.loads((myResponse.content.decode('utf-8')))\n",
    "        \n",
    "        self.appName = jsonOutput['description'].strip().lower()\n",
    "        print(self.appName.upper())\n",
    "        \n",
    "        #print(jsonOutput)\n",
    "    \n",
    "    def ExtractFeaturesFromAppDescription(self):\n",
    "        api_url='http://localhost:8081/app/description?id=' + str(self.appID)\n",
    "        myResponse = requests.get(api_url)\n",
    "        if(myResponse.ok):\n",
    "            app_data = json.loads((myResponse.content.decode('utf-8')))\n",
    "            \n",
    "            self.app_description = app_data['description'].strip()\n",
    "        \n",
    "        textProcessor = TextProcessing(self.appName,self.app_description)\n",
    "        unclean_sents = textProcessor.SegmemtintoSentences(sents_already_segmented=False)\n",
    "        clean_sentences = textProcessor.GetCleanSentences()\n",
    "        SAFE_Patterns_Obj=SAFE_Patterns.SAFE_Patterns(self.appName,None,clean_sentences,unclean_sents)\n",
    "        sents_with_features= SAFE_Patterns_Obj.ExtractFeatures_Analyzing_Sent_POSPatterns()\n",
    "        \n",
    "        app_features_desc = []\n",
    "        \n",
    "        for sent_id in sents_with_features.keys():\n",
    "            extracted_features = sents_with_features[sent_id]['extracted_features']\n",
    "            app_features_desc.extend(extracted_features)\n",
    "\n",
    "        self.extracted_app_features_dec =  app_features_desc\n",
    "    \n",
    "    \n",
    "    def ExtractFeaturesFromUserReviews(self):\n",
    "        self.reviews_text=[]\n",
    "            # call to rest API to retrive reviews against this app id\n",
    "        api_url='http://localhost:8081/app?id=' + str(self.appID)\n",
    "        myResponse = requests.get(api_url)\n",
    "        if(myResponse.ok):\n",
    "            appreviews_data = json.loads((myResponse.content.decode('utf-8')))\n",
    "        \n",
    "        user_reviews = appreviews_data['reveiw_list']\n",
    "        dict_user_reviews={}\n",
    "        \n",
    "        for user_review in user_reviews:\n",
    "            dict_user_reviews[int(user_review['id'])] = {'review_text': user_review['text'],'predicted_features':[]}\n",
    "          \n",
    "        self.data = dict_user_reviews\n",
    "        \n",
    "    def PreprocessData(self):\n",
    "        \n",
    "        # extract features from app description\n",
    "        self.ExtractFeaturesFromAppDescription()\n",
    "        \n",
    "        #exract features from user reviews\n",
    "        self.ExtractFeaturesFromUserReviews()\n",
    "        \n",
    "        #if self.extraction_mode.value == EXTRACTION_MODE.USER_REVIEWS.value:\n",
    "            #reviews sents with extracted app features\n",
    "        self.reviews_with_sents_n_features={}\n",
    "            \n",
    "        for review_id in self.data.keys():\n",
    "            review_text  = self.data[review_id]['review_text']\n",
    "                #self.clean_sentences=[]\n",
    "            textProcessor = TextProcessing(self.appName,review_text)\n",
    "            unclean_sents = textProcessor.SegmemtintoSentences(sents_already_segmented=False)\n",
    "                \n",
    "            review_clean_sentences = textProcessor.GetCleanSentences()\n",
    "            SAFE_Patterns_Obj=SAFE_Patterns.SAFE_Patterns(self.appName,review_id,review_clean_sentences,unclean_sents)\n",
    "            sents_with_features = SAFE_Patterns_Obj.ExtractFeatures_Analyzing_Sent_POSPatterns()\n",
    "            review_wise_features=[]\n",
    "            for sent_id in sents_with_features.keys():\n",
    "                del sents_with_features[sent_id]['clean_sent']\n",
    "                review_wise_features.extend(sents_with_features[sent_id]['extracted_features'])\n",
    "                    \n",
    "            self.reviews_with_sents_n_features[review_id] = sents_with_features\n",
    "            self.data[review_id]['predicted_features'] = review_wise_features\n",
    "                \n",
    "        self.extracted_app_features_reviews = self.GetListOfExtractedAppFeatures()\n",
    "    \n",
    "    def GetReviewsWithExtractedFeatures(self):\n",
    "        return self.data\n",
    "\n",
    "    def GetReview_Sents_WithExtractedFeatures(self):\n",
    "        return self.reviews_with_sents_n_features\n",
    "    \n",
    "    def GetListOfExtractedAppFeatures(self):\n",
    "        list_extracted_app_features=[]\n",
    "        for review_id in self.reviews_with_sents_n_features.keys():\n",
    "            sents_with_app_features = self.reviews_with_sents_n_features[review_id]\n",
    "            for sent_id in sents_with_app_features.keys():\n",
    "                app_features = sents_with_app_features[sent_id]['extracted_features']\n",
    "                list_extracted_app_features.extend(app_features)\n",
    "        \n",
    "        return(list_extracted_app_features)\n",
    "        \n",
    "    def ExtractAppFeatures(self):\n",
    "        SAFE_Patterns_Obj=SAFE_Patterns.SAFE_Patterns(self.appName, self.clean_sentences,self.data)\n",
    "        SAFE_Patterns_Obj.ExtractFeatures_Analyzing_Sent_POSPatterns()\n",
    "    \n",
    "    def Group_Features(self,similarity_th=.70):\n",
    "        obj_merge_features = Merge_Features(self.appName,list(self.clean_review_features),self.nlp)\n",
    "        return(obj_merge_features.Merge(similarity_th))\n",
    "    \n",
    "    def Extract_Raw_App_Features_From_Reviews_n_Desc(self):\n",
    "        self.PreprocessData()\n",
    "    \n",
    "    def CleanExtractedFeaturesReview_By_Desc(self,th_similarity_with_desc_features,th_similarity_feature_cluster):\n",
    "        obj_merge_features = Merge_Features(self.appName,self.extracted_app_features_reviews,self.nlp)\n",
    "        self.clean_review_features = obj_merge_features.FilterReviewAppFeaturesByAppFeaturesExtractedFromDesciption(self.extracted_app_features_reviews,self.extracted_app_features_dec,th_similarity_with_desc_features)\n",
    "        json_output = self.Group_Features(th_similarity_feature_cluster)\n",
    "        return(json_output)"
   ]
  },
  {
   "cell_type": "code",
   "execution_count": 71,
   "metadata": {
    "collapsed": false
   },
   "outputs": [
    {
     "name": "stdout",
     "output_type": "stream",
     "text": [
      "DROPBOX\n",
      "500\n"
     ]
    }
   ],
   "source": [
    "if __name__ == '__main__':\n",
    "    app_id = 327630330\n",
    "    #objXML_DS = XML_REVIEW_DATASET(DATASETS.GUZMAN,MOBILE_APPS.WHATSAPP,ANNOTATORS.CODER1)\n",
    "    #reviews_data = objXML_DS.ReadReviewWithAspectTerms()\n",
    "    #print(reviews_data)\n",
    "    #reviews_list = [review_with_true_features[review_id]['review_text'] for review_id in review_with_true_features.keys()]\n",
    "    \n",
    "#     app_name = 'PyCharm'\n",
    "#     file_path = app_name + '.txt'\n",
    "\n",
    "#     with open(file_path,encoding=\"latin-1\") as f:\n",
    "#         content = f.readlines()\n",
    "    \n",
    "#     content = [x.strip() for x in content] \n",
    "    \n",
    "\n",
    "    SIMILARITY_THRESHOLD_WITH_APP_DESRIPTION_FEATURES = .90\n",
    "    SIMILARITY_THRESHOLD_FEATURE_CLUSTERING = .85\n",
    "    \n",
    "    obj_surf = SAFE(app_id,nlp)\n",
    "    obj_surf.Extract_Raw_App_Features_From_Reviews_n_Desc()\n",
    "    json_output = obj_surf.CleanExtractedFeaturesReview_By_Desc(SIMILARITY_THRESHOLD_WITH_APP_DESRIPTION_FEATURES,SIMILARITY_THRESHOLD_FEATURE_CLUSTERING)\n",
    "    \n",
    "    review_sents_with_features = obj_surf.GetReview_Sents_WithExtractedFeatures()\n",
    "    print(len(review_sents_with_features))\n",
    "   \n",
    "    #     predicted_features_json =json_output['app_features']\n",
    "#     #print(predicted_features_json)\n",
    "\n",
    "#     cluster_predicted_features=[]\n",
    "\n",
    "#     print(\"++++++++++++++++++++++++++++++++++++++++++++++++++\")\n",
    "\n",
    "#     print('Number of clusters are %d' % len(predicted_features_json))\n",
    "\n",
    "#     for cluster_features in predicted_features_json:\n",
    "#         app_features_group = cluster_features['cluster_features']\n",
    "#         #print(app_features_group)\n",
    "#         app_features_cluster=[]\n",
    "#         for app_feature in app_features_group:\n",
    "#         #predicted_features.append(app_feature['feature'])\n",
    "#             app_features_cluster.append(app_feature['feature'])\n",
    "\n",
    "#         cluster_predicted_features.append(app_features_cluster)\n",
    "\n",
    "#     print(cluster_predicted_features)"
   ]
  },
  {
   "cell_type": "code",
   "execution_count": null,
   "metadata": {
    "collapsed": true
   },
   "outputs": [],
   "source": []
  },
  {
   "cell_type": "code",
   "execution_count": null,
   "metadata": {
    "collapsed": true
   },
   "outputs": [],
   "source": []
  }
 ],
 "metadata": {
  "anaconda-cloud": {},
  "kernelspec": {
   "display_name": "Python [conda env:ut]",
   "language": "python",
   "name": "conda-env-ut-py"
  },
  "language_info": {
   "codemirror_mode": {
    "name": "ipython",
    "version": 3
   },
   "file_extension": ".py",
   "mimetype": "text/x-python",
   "name": "python",
   "nbconvert_exporter": "python",
   "pygments_lexer": "ipython3",
   "version": "3.5.2"
  }
 },
 "nbformat": 4,
 "nbformat_minor": 2
}
