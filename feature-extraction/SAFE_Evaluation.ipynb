{
 "cells": [
  {
   "cell_type": "code",
   "execution_count": 1,
   "metadata": {
    "collapsed": true
   },
   "outputs": [],
   "source": [
    "import nltk\n",
    "from nltk.stem.snowball import SnowballStemmer"
   ]
  },
  {
   "cell_type": "code",
   "execution_count": null,
   "metadata": {
    "collapsed": true
   },
   "outputs": [],
   "source": [
    "stemmer = SnowballStemmer(\"english\")"
   ]
  },
  {
   "cell_type": "code",
   "execution_count": 4,
   "metadata": {
    "collapsed": true
   },
   "outputs": [],
   "source": [
    "from enum import Enum\n",
    "\n",
    "class EVALUATION_TYPE(Enum):\n",
    "    EXACT=1\n",
    "    PARTIAL=2"
   ]
  },
  {
   "cell_type": "code",
   "execution_count": 33,
   "metadata": {
    "collapsed": false
   },
   "outputs": [],
   "source": [
    "class Evaluate:\n",
    "    def __init__(self,true_features,cluster_predicted_features,evaluation_type):\n",
    "        self.true_features=true_features\n",
    "        self.predicted_features_cluster = cluster_predicted_features\n",
    "        self.evaluation_type = evaluation_type\n",
    "    \n",
    "    def PerformEvaluation(self):\n",
    "        if self.evaluation_type.value == EVALUATION_TYPE.EXACT.value:\n",
    "            self.ExactEvaluation()\n",
    "    \n",
    "    def ExactEvaluation(self):\n",
    "        \n",
    "        tp = 0\n",
    "        fp = 0\n",
    "        fn = 0\n",
    "        tp_features_list=[]\n",
    "        fp_features_list=[]\n",
    "        fn_features_list=[]\n",
    "        count=0\n",
    "        for feature_cluster in self.predicted_features_cluster:\n",
    "            found = False\n",
    "            matched_true_feature=\"\"\n",
    "            tp_count=0\n",
    "            tp_feature_list=[]\n",
    "            for p_feature in feature_cluster:\n",
    "                p_feature_words =  nltk.word_tokenize(p_feature)\n",
    "                p_feature_words_tag = nltk.pos_tag(p_feature_words)\n",
    "                p_feature_clean = ' '.join([stemmer.stem(w.lower()) for w,tag in p_feature_words_tag if tag!='PRP$' and tag!='IN'])\n",
    "        \n",
    "\n",
    "                for t_feature in set(self.true_features):\n",
    "                    t_feature_words =  nltk.word_tokenize(t_feature)\n",
    "                    t_feature_words_tag = nltk.pos_tag(t_feature_words)\n",
    "                    t_feature_clean = ' '.join([stemmer.stem(w.lower()) for w,tag in t_feature_words_tag if tag!='PRP$' and tag!='IN'])\n",
    "                    #print(\"compare \\'%s\\' with \\'%s\\'\" % (p_feature_clean,t_feature_clean))\n",
    "                    if p_feature_clean==t_feature_clean and t_feature_clean not in tp_features_list:\n",
    "                        found = True\n",
    "                        tp_count = tp_count + 1\n",
    "                        tp_feature_list.append(t_feature_clean)\n",
    "                        #print(\"**Result is TRUE**\")\n",
    "                        #matched_true_feature = t_feature_clean\n",
    "                        break\n",
    "                \n",
    "                    #print('########################################'\n",
    "            \n",
    "            count = count + 1\n",
    "            \n",
    "            if found == True:\n",
    "                tp =  tp + tp_count\n",
    "                tp_features_list.extend(tp_feature_list)\n",
    "                #print(\"\\'%s\\' exactly matched with \\'%s\\'\\n\" % (matched_true_feature,matched_true_feature))    \n",
    "            \n",
    "            if found==False:\n",
    "                for p_feature in feature_cluster:\n",
    "                    fp_features_list.append(p_feature)\n",
    "                fp =  fp + 1\n",
    "        \n",
    "        \n",
    "        for t_feature in set(self.true_features):\n",
    "            t_feature_words =  nltk.word_tokenize(t_feature)\n",
    "            t_feature_words_tag = nltk.pos_tag(t_feature_words)\n",
    "            t_feature_clean = ' '.join([stemmer.stem(w.lower()) for w,tag in t_feature_words_tag if tag!='PRP$' and tag!='IN'])\n",
    "                \n",
    "            found = False\n",
    "            for feature_cluster in self.predicted_features_cluster:\n",
    "                #fn_count=0\n",
    "                for p_feature in feature_cluster:\n",
    "                    p_feature_words =  nltk.word_tokenize(p_feature)\n",
    "                    p_feature_words_tag = nltk.pos_tag(p_feature_words)\n",
    "                    p_feature_clean = ' '.join([stemmer.stem(w.lower()) for w,tag in p_feature_words_tag if tag!='PRP$' and tag!='IN'])\n",
    "                \n",
    "                    if p_feature_clean == t_feature_clean:\n",
    "                        found = True\n",
    "                        #fn_count =  fn_coun + 1\n",
    "                        break\n",
    "            \n",
    "            if found == False:\n",
    "                fn_features_list.append(t_feature_clean)\n",
    "                fn = fn  + 1\n",
    "                \n",
    "        print('TP:%d , FP:%d, FN: %d\\n' % (tp,fp,fn))\n",
    "        precision = tp/(tp + fp)\n",
    "        recall = tp/(tp + fn)\n",
    "        try:\n",
    "            fscore = 2*((precision*recall)/(precision+recall))\n",
    "        except ZeroDivisionError:\n",
    "            fscore=0.0\n",
    "        \n",
    "        print(\"**********RESULTS******************\")\n",
    "        print(\"Precisioin : %.3f, Recall : %.3f, Fscore: %.3f\" % (precision,recall,fscore))\n",
    "        \n",
    "        print(\"###########################DETAILS#############################\")\n",
    "        \n",
    "        print('List of true positive features ->')\n",
    "        print(tp_features_list)\n",
    "        \n",
    "        print('List of false positive features ->')\n",
    "        print(set(fp_features_list))\n",
    "        \n",
    "        print('List of false negative features ->')\n",
    "        print(fn_features_list)"
   ]
  },
  {
   "cell_type": "code",
   "execution_count": 35,
   "metadata": {
    "collapsed": false
   },
   "outputs": [
    {
     "name": "stdout",
     "output_type": "stream",
     "text": [
      "'week view' exactly matched with 'week view'\n",
      "\n",
      "'textexpander support' exactly matched with 'TextExpander support'\n",
      "\n",
      "TP:2 , FP:44, FN: 22\n",
      "\n",
      "Precisioin : 0.043, Recall : 0.083, Fscore: 0.057\n"
     ]
    }
   ],
   "source": [
    "# if __name__ == '__main__':\n",
    "#     true_features=['natural language parsing', 'reminders', 'week view', 'speak the details of your event', 'see your events', 'see your dated reminders', 'add reminders', 'set dates', 'set times', 'set geofences', 'create reminders with your voice', 'create alerts', 'show event details', \"show event's location\", 'repeating event options', 'background app updating', 'extended keyboard', 'TextExpander support', 'add new events', 'list events', 'find your events', 'edit reminder', 'push notifications', 'integrates iOS reminders']\n",
    "#     predicted_features=['facebook events', 'allows reminders', 'new events', 'events fun', 'specific events', 'allows events', 'accessibility support', 'textexpander support', 'including peek', 'week view', 'use dictation', 'calendar services', 'iphone calendar', 'google calendar', 'john gruber', 'reminders fun', 'event show', 'managing schedule', 'stock calendar', 'beautiful week', 'reminder show', 'pure replacement', 'favorite iphone', 'including icloud', 'events reminders', 'allows alerts', 'symbols dates', 'numbers dates', 'details dictation', 'natural language', 'enjoyable way', 'efficient and enjoyable', '3d touch', 'dated reminders', 'apps works', 'handle rest', 'replacement iphone', 'use search', 'event duplicate', 'jim dalrymple', 'winning calendar', 'speak details', 'great ios', 'language parsing', 'ios reminders', 'new features']\n",
    "    \n",
    "#     objEvaluation=Evaluation(true_features,predicted_features,EVALUATION_TYPE.EXACT)\n",
    "#     objEvaluation.PerformEvaluation()"
   ]
  },
  {
   "cell_type": "code",
   "execution_count": null,
   "metadata": {
    "collapsed": true
   },
   "outputs": [],
   "source": []
  },
  {
   "cell_type": "code",
   "execution_count": null,
   "metadata": {
    "collapsed": true
   },
   "outputs": [],
   "source": []
  }
 ],
 "metadata": {
  "anaconda-cloud": {},
  "kernelspec": {
   "display_name": "Python [conda env:ut]",
   "language": "python",
   "name": "conda-env-ut-py"
  },
  "language_info": {
   "codemirror_mode": {
    "name": "ipython",
    "version": 3
   },
   "file_extension": ".py",
   "mimetype": "text/x-python",
   "name": "python",
   "nbconvert_exporter": "python",
   "pygments_lexer": "ipython3",
   "version": "3.5.2"
  }
 },
 "nbformat": 4,
 "nbformat_minor": 2
}
